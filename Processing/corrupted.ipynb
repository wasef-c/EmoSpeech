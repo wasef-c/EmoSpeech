{
 "cells": [
  {
   "cell_type": "code",
   "execution_count": 1,
   "metadata": {},
   "outputs": [
    {
     "name": "stderr",
     "output_type": "stream",
     "text": [
      "d:\\Documents\\MASC\\NLP_EMO\\.venv312\\Lib\\site-packages\\tqdm\\auto.py:21: TqdmWarning: IProgress not found. Please update jupyter and ipywidgets. See https://ipywidgets.readthedocs.io/en/stable/user_install.html\n",
      "  from .autonotebook import tqdm as notebook_tqdm\n",
      "Generating train split: 100%|██████████| 116221/116221 [00:06<00:00, 17412.94 examples/s]\n"
     ]
    }
   ],
   "source": [
    "import datasets\n",
    "from datasets import load_dataset\n",
    "train_dataset = load_dataset('cairocode/MSPP_OLD2')"
   ]
  },
  {
   "cell_type": "code",
   "execution_count": 2,
   "metadata": {},
   "outputs": [],
   "source": [
    "train_data = train_dataset['train']\n",
    "column = 'EmoClass'"
   ]
  },
  {
   "cell_type": "code",
   "execution_count": 5,
   "metadata": {},
   "outputs": [
    {
     "name": "stdout",
     "output_type": "stream",
     "text": [
      "Corrupted files indices: []\n"
     ]
    }
   ],
   "source": [
    "corrupted_files = []\n",
    "try:\n",
    "    for idx, sample in enumerate(train_data):\n",
    "        try:\n",
    "            label = sample[column]\n",
    "            img = sample['image']\n",
    "        except OSError as e:\n",
    "            print(f\"Error in sample {idx}: {e}\")\n",
    "            corrupted_files.append(idx)\n",
    "except OSError as e:\n",
    "    print(f\"Error in sample {idx}: {e}\")\n",
    "    corrupted_files.append(idx+1)\n",
    "\n",
    "print(f\"Corrupted files indices: {corrupted_files}\")"
   ]
  },
  {
   "cell_type": "code",
   "execution_count": 4,
   "metadata": {},
   "outputs": [
    {
     "name": "stdout",
     "output_type": "stream",
     "text": [
      "Removed 1 corrupted files from the dataset.\n"
     ]
    }
   ],
   "source": [
    "if corrupted_files:\n",
    "    train_dataset_new = train_data.select([i for i in range(len(train_data)) if i not in corrupted_files])\n",
    "    print(f\"Removed {len(corrupted_files)} corrupted files from the dataset.\")\n",
    "else:\n",
    "    print(\"No corrupted files found.\")\n",
    "\n",
    "train_data = train_dataset_new"
   ]
  },
  {
   "cell_type": "code",
   "execution_count": 6,
   "metadata": {},
   "outputs": [
    {
     "name": "stderr",
     "output_type": "stream",
     "text": [
      "Map: 100%|██████████| 10566/10566 [00:01<00:00, 6095.58 examples/s]]\n",
      "Creating parquet from Arrow format: 100%|██████████| 106/106 [00:01<00:00, 62.15ba/s]\n",
      "Map: 100%|██████████| 10566/10566 [00:01<00:00, 6734.99 examples/s]42.65s/it]\n",
      "Creating parquet from Arrow format: 100%|██████████| 106/106 [00:01<00:00, 68.25ba/s]\n",
      "Map: 100%|██████████| 10566/10566 [00:01<00:00, 6658.00 examples/s]29.03s/it]\n",
      "Creating parquet from Arrow format: 100%|██████████| 106/106 [00:01<00:00, 70.09ba/s]\n",
      "Map: 100%|██████████| 10566/10566 [00:01<00:00, 6982.11 examples/s]09.19s/it]\n",
      "Creating parquet from Arrow format: 100%|██████████| 106/106 [00:01<00:00, 71.40ba/s]\n",
      "Map: 100%|██████████| 10566/10566 [00:01<00:00, 6660.80 examples/s]19.66s/it]\n",
      "Creating parquet from Arrow format: 100%|██████████| 106/106 [00:01<00:00, 69.31ba/s]\n",
      "Map: 100%|██████████| 10565/10565 [00:01<00:00, 7103.07 examples/s]92.82s/it]\n",
      "Creating parquet from Arrow format: 100%|██████████| 106/106 [00:01<00:00, 76.72ba/s]\n",
      "Map: 100%|██████████| 10565/10565 [00:01<00:00, 7220.70 examples/s]90.77s/it]\n",
      "Creating parquet from Arrow format: 100%|██████████| 106/106 [00:01<00:00, 84.39ba/s]\n",
      "Map: 100%|██████████| 10565/10565 [00:01<00:00, 6972.97 examples/s]83.53s/it]\n",
      "Creating parquet from Arrow format: 100%|██████████| 106/106 [00:01<00:00, 70.09ba/s]\n",
      "Map: 100%|██████████| 10565/10565 [00:01<00:00, 7147.47 examples/s]87.01s/it]\n",
      "Creating parquet from Arrow format: 100%|██████████| 106/106 [00:01<00:00, 75.33ba/s]\n",
      "Map: 100%|██████████| 10565/10565 [00:01<00:00, 7483.22 examples/s]99.26s/it]\n",
      "Creating parquet from Arrow format: 100%|██████████| 106/106 [00:01<00:00, 90.07ba/s]\n",
      "Map: 100%|██████████| 10565/10565 [00:01<00:00, 7019.67 examples/s]187.43s/it]\n",
      "Creating parquet from Arrow format: 100%|██████████| 106/106 [00:01<00:00, 81.77ba/s]\n",
      "Uploading the dataset shards: 100%|██████████| 11/11 [35:04<00:00, 191.36s/it]\n"
     ]
    },
    {
     "data": {
      "text/plain": [
       "CommitInfo(commit_url='https://huggingface.co/datasets/cairocode/MSPP_PLS/commit/81dad1788eb36f010f4a598664876949990e13f1', commit_message='Upload dataset', commit_description='', oid='81dad1788eb36f010f4a598664876949990e13f1', pr_url=None, repo_url=RepoUrl('https://huggingface.co/datasets/cairocode/MSPP_PLS', endpoint='https://huggingface.co', repo_type='dataset', repo_id='cairocode/MSPP_PLS'), pr_revision=None, pr_num=None)"
      ]
     },
     "execution_count": 6,
     "metadata": {},
     "output_type": "execute_result"
    }
   ],
   "source": [
    "from datasets import DatasetDict\n",
    "train_d1 = DatasetDict({\n",
    "    'train': train_dataset_new,\n",
    "    # 'validation': train_dataset['validation'],\n",
    "    # 'test': train_dataset['test']\n",
    "})\n",
    "\n",
    "train_d1.push_to_hub(\"MSPP_PLS\")"
   ]
  }
 ],
 "metadata": {
  "kernelspec": {
   "display_name": ".venv312",
   "language": "python",
   "name": "python3"
  },
  "language_info": {
   "codemirror_mode": {
    "name": "ipython",
    "version": 3
   },
   "file_extension": ".py",
   "mimetype": "text/x-python",
   "name": "python",
   "nbconvert_exporter": "python",
   "pygments_lexer": "ipython3",
   "version": "3.12.8"
  }
 },
 "nbformat": 4,
 "nbformat_minor": 2
}
