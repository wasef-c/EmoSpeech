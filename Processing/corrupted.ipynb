{
 "cells": [
  {
   "cell_type": "code",
   "execution_count": 1,
   "metadata": {},
   "outputs": [
    {
     "name": "stderr",
     "output_type": "stream",
     "text": [
      "d:\\Documents\\MASC\\NLP_EMO\\.venv312\\Lib\\site-packages\\tqdm\\auto.py:21: TqdmWarning: IProgress not found. Please update jupyter and ipywidgets. See https://ipywidgets.readthedocs.io/en/stable/user_install.html\n",
      "  from .autonotebook import tqdm as notebook_tqdm\n",
      "Generating train split: 100%|██████████| 60889/60889 [00:02<00:00, 20848.55 examples/s]\n"
     ]
    }
   ],
   "source": [
    "import datasets\n",
    "from datasets import load_dataset\n",
    "train_dataset = load_dataset('cairocode/MSP_POD_OLD_3')"
   ]
  },
  {
   "cell_type": "code",
   "execution_count": 2,
   "metadata": {},
   "outputs": [],
   "source": [
    "train_data = train_dataset['train']\n",
    "column = 'EmoClass'"
   ]
  },
  {
   "cell_type": "code",
   "execution_count": 3,
   "metadata": {},
   "outputs": [
    {
     "name": "stdout",
     "output_type": "stream",
     "text": [
      "Corrupted files indices: []\n"
     ]
    }
   ],
   "source": [
    "corrupted_files = []\n",
    "try:\n",
    "    for idx, sample in enumerate(train_data):\n",
    "        try:\n",
    "            label = sample[column]\n",
    "            img = sample['image']\n",
    "        except OSError as e:\n",
    "            print(f\"Error in sample {idx}: {e}\")\n",
    "            corrupted_files.append(idx)\n",
    "except OSError as e:\n",
    "    print(f\"Error in sample {idx}: {e}\")\n",
    "    corrupted_files.append(idx+1)\n",
    "\n",
    "print(f\"Corrupted files indices: {corrupted_files}\")"
   ]
  },
  {
   "cell_type": "code",
   "execution_count": 4,
   "metadata": {},
   "outputs": [
    {
     "name": "stdout",
     "output_type": "stream",
     "text": [
      "No corrupted files found.\n"
     ]
    },
    {
     "ename": "NameError",
     "evalue": "name 'train_dataset_new' is not defined",
     "output_type": "error",
     "traceback": [
      "\u001b[1;31m---------------------------------------------------------------------------\u001b[0m",
      "\u001b[1;31mNameError\u001b[0m                                 Traceback (most recent call last)",
      "Cell \u001b[1;32mIn[4], line 7\u001b[0m\n\u001b[0;32m      4\u001b[0m \u001b[38;5;28;01melse\u001b[39;00m:\n\u001b[0;32m      5\u001b[0m     \u001b[38;5;28mprint\u001b[39m(\u001b[38;5;124m\"\u001b[39m\u001b[38;5;124mNo corrupted files found.\u001b[39m\u001b[38;5;124m\"\u001b[39m)\n\u001b[1;32m----> 7\u001b[0m train_data \u001b[38;5;241m=\u001b[39m \u001b[43mtrain_dataset_new\u001b[49m\n",
      "\u001b[1;31mNameError\u001b[0m: name 'train_dataset_new' is not defined"
     ]
    }
   ],
   "source": [
    "if corrupted_files:\n",
    "    train_dataset_new = train_data.select([i for i in range(len(train_data)) if i not in corrupted_files])\n",
    "    print(f\"Removed {len(corrupted_files)} corrupted files from the dataset.\")\n",
    "else:\n",
    "    print(\"No corrupted files found.\")\n",
    "\n",
    "train_data = train_dataset_new"
   ]
  },
  {
   "cell_type": "code",
   "execution_count": null,
   "metadata": {},
   "outputs": [],
   "source": [
    "from datasets import DatasetDict\n",
    "train_d1 = DatasetDict({\n",
    "    'train': train_dataset_new,\n",
    "    # 'validation': train_dataset['validation'],\n",
    "    # 'test': train_dataset['test']\n",
    "})\n",
    "\n",
    "train_d1.push_to_hub(\"MSP_POD_OLD_5\")"
   ]
  }
 ],
 "metadata": {
  "kernelspec": {
   "display_name": ".venv312",
   "language": "python",
   "name": "python3"
  },
  "language_info": {
   "codemirror_mode": {
    "name": "ipython",
    "version": 3
   },
   "file_extension": ".py",
   "mimetype": "text/x-python",
   "name": "python",
   "nbconvert_exporter": "python",
   "pygments_lexer": "ipython3",
   "version": "3.12.8"
  }
 },
 "nbformat": 4,
 "nbformat_minor": 2
}
