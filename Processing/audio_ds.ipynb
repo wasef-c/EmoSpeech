{
 "cells": [
  {
   "cell_type": "code",
   "execution_count": null,
   "metadata": {},
   "outputs": [],
   "source": [
    "import os\n",
    "import pandas as pd\n",
    "import shutil\n",
    "import re\n",
    "\n",
    "# Paths\n",
    "metadata_path = '/media/carol/Data/DATASETS/Emotion_Datasets/Emotion_Speaker_Sets/IEMOCAP/test/metadata.csv'  # Replace with the actual path to the metadata file\n",
    "source_directory = '/media/carol/Data/DATASETS/Emotion_Datasets/Raw_Datasets/IEMOCAP'\n",
    "destination_directory = '/media/carol/Data/DATASETS/Emotion_Datasets/Emotion_Speaker_Sets/IEMOCAP_WAV/test'\n",
    "# Read the metadata file\n",
    "metadata = pd.read_csv(metadata_path)\n",
    "\n",
    "# Ensure the destination directory exists\n",
    "os.makedirs(destination_directory, exist_ok=True)\n",
    "\n",
    "# Iterate through the metadata rows\n",
    "for index, row in metadata.iterrows():\n",
    "    filename = row['file_name']\n",
    "    \n",
    "    # Extract session ID from the filename\n",
    "    session_match = re.search(r'Ses(\\d+)', filename)\n",
    "    if not session_match:\n",
    "        print(f\"Error: Unable to extract session ID from filename {filename}\")\n",
    "        continue\n",
    "    session_id = f\"Session{int(session_match.group(1))}\"\n",
    "    \n",
    "    # Extract base filename\n",
    "    base_filename = os.path.splitext(os.path.basename(filename))[0]\n",
    "    intermediate_folder = \"_\".join(base_filename.split(\"_\")[:-1])  # Remove the frame identifier (e.g., `_F000`)\n",
    "\n",
    "    \n",
    "    # Construct source WAV file path\n",
    "    source_wav_path = os.path.join(source_directory, session_id, \"sentences\", \"wav\", intermediate_folder, f\"{base_filename}.wav\")\n",
    "    \n",
    "    # Construct destination path for WAV file\n",
    "    destination_subdir = os.path.join(destination_directory, os.path.dirname(filename))\n",
    "    destination_wav_path = os.path.join(destination_subdir, f\"{base_filename}.wav\")\n",
    "    \n",
    "    # Create subdirectory if it doesn't exist\n",
    "    os.makedirs(destination_subdir, exist_ok=True)\n",
    "    \n",
    "    # Copy the WAV file\n",
    "    if os.path.exists(source_wav_path):\n",
    "        shutil.copy(source_wav_path, destination_wav_path)\n",
    "    else:\n",
    "        print(f\"Warning: {source_wav_path} does not exist.\")\n",
    "\n",
    "# Copy the metadata file to the new directory\n",
    "shutil.copy(metadata_path, os.path.join(destination_directory, os.path.basename(metadata_path)))\n",
    "\n",
    "print(\"All files processed and copied successfully!\")\n",
    "'''\n",
    "/media/carol/Data/DATASETS/Emotion_Datasets/Raw_Datasets/IEMOCAP/Session1/sentences/wav/Ses01F_impro01/Ses01F_impro01_F000.wav\n",
    "'''"
   ]
  },
  {
   "cell_type": "code",
   "execution_count": 2,
   "metadata": {},
   "outputs": [
    {
     "name": "stdout",
     "output_type": "stream",
     "text": [
      "Processing complete. New CSV saved as: D:\\Documents\\MASC\\MSP_POD_dataset\\Audios\\Audios.tar\\Audios\\metadata.csv\n"
     ]
    }
   ],
   "source": [
    "import pandas as pd\n",
    "\n",
    "# 1. Open the CSV file\n",
    "input_csv = R\"D:\\Documents\\MASC\\MSP_POD_dataset\\Audios\\Audios.tar\\Audios\\metadata.csv\"\n",
    "df = pd.read_csv(input_csv)\n",
    "\n",
    "# 2. Remove the entire first column\n",
    "#    This assumes the first column is at index 0.\n",
    "df.drop(df.columns[0], axis=1, inplace=True)\n",
    "\n",
    "# 3. In the column \"file_name\", \n",
    "#    - extract everything after the first slash\n",
    "#    - change the extension from .png to .wav\n",
    "def process_filename(filename):\n",
    "    # Split on the first slash -> x.split('/', 1)\n",
    "    # If there's no slash, we can just work with the original string\n",
    "    parts = filename.split('/', 1)\n",
    "    if len(parts) == 2:\n",
    "        # Everything after the first slash\n",
    "        filename_after_slash = parts[1]\n",
    "    else:\n",
    "        # No slash found\n",
    "        filename_after_slash = parts[0]\n",
    "    \n",
    "    # Change .png to .wav\n",
    "    return filename_after_slash.replace('.png', '.wav')\n",
    "\n",
    "df['file_name'] = df['file_name'].apply(process_filename)\n",
    "\n",
    "# 4. Save the new CSV\n",
    "output_csv = r\"D:\\Documents\\MASC\\MSP_POD_dataset\\Audios\\Audios.tar\\Audios\\metadata.csv\"\n",
    "df.to_csv(output_csv, index=False)\n",
    "\n",
    "print(\"Processing complete. New CSV saved as:\", output_csv)\n"
   ]
  },
  {
   "cell_type": "code",
   "execution_count": 4,
   "metadata": {},
   "outputs": [
    {
     "name": "stderr",
     "output_type": "stream",
     "text": [
      "Processing rows: 100%|██████████| 116221/116221 [11:57<00:00, 162.09it/s]\n"
     ]
    },
    {
     "name": "stdout",
     "output_type": "stream",
     "text": [
      "Processing complete. New CSV saved as: D:\\Documents\\MASC\\MSP_POD_dataset\\Audios\\Audios.tar\\Audios\\metadata2.csv\n"
     ]
    }
   ],
   "source": [
    "import pandas as pd\n",
    "import os\n",
    "from tqdm import tqdm  # Import tqdm for the progress bar\n",
    "\n",
    "# Read the CSV with pandas\n",
    "input_csv = r\"D:\\Documents\\MASC\\MSP_POD_dataset\\Audios\\Audios.tar\\Audios\\labels_consensus.csv\"\n",
    "df = pd.read_csv(input_csv)\n",
    "\n",
    "# Initialize tqdm for the progress bar\n",
    "transcripts = []\n",
    "for idx, row in tqdm(df.iterrows(), total=len(df), desc=\"Processing rows\"):\n",
    "    wav_filename = row[\"file_name\"]\n",
    "    txt_filename = os.path.splitext(wav_filename)[0] + \".txt\"\n",
    "    txt_path = os.path.join(r\"D:\\Documents\\MASC\\MSP_POD_dataset\\Transcripts\", txt_filename)\n",
    "    \n",
    "    try:\n",
    "        with open(txt_path, \"r\", encoding=\"utf-8\") as f:\n",
    "            content = f.read().strip()\n",
    "    except FileNotFoundError:\n",
    "        content = \"\"\n",
    "    \n",
    "    transcripts.append(content)\n",
    "\n",
    "# Add the transcripts column\n",
    "df[\"transcript\"] = transcripts\n",
    "# (Optionally update the file_name in the DataFrame to .txt)\n",
    "# df[\"file_name\"] = df[\"file_name\"].str.replace(\".wav\", \".txt\", regex=False)\n",
    "\n",
    "# Write to a new CSV\n",
    "output_csv =  r\"D:\\Documents\\MASC\\MSP_POD_dataset\\Audios\\Audios.tar\\Audios\\metadata2.csv\"\n",
    "df.to_csv(output_csv, index=False)\n",
    "print(\"Processing complete. New CSV saved as:\", output_csv)\n"
   ]
  }
 ],
 "metadata": {
  "kernelspec": {
   "display_name": ".venv312",
   "language": "python",
   "name": "python3"
  },
  "language_info": {
   "codemirror_mode": {
    "name": "ipython",
    "version": 3
   },
   "file_extension": ".py",
   "mimetype": "text/x-python",
   "name": "python",
   "nbconvert_exporter": "python",
   "pygments_lexer": "ipython3",
   "version": "3.12.8"
  }
 },
 "nbformat": 4,
 "nbformat_minor": 2
}
